{
 "cells": [
  {
   "cell_type": "code",
   "execution_count": 5,
   "id": "9a754f43",
   "metadata": {},
   "outputs": [],
   "source": [
    "import os\n",
    "import json\n",
    "\n",
    "INPUT_FILE = r'../carga_didatica/2025-1/formularios_combinados.json'\n",
    "OUTPUT_PATH = r'../carga_didatica/2025-1/formularios'"
   ]
  },
  {
   "cell_type": "code",
   "execution_count": 6,
   "id": "4f6eb4a4",
   "metadata": {},
   "outputs": [],
   "source": [
    "def processar_formularios_compilados(turmasNoturnas: list):\n",
    "    \"\"\"\n",
    "    Lê o arquivo JSON compilado e o divide em arquivos JSON individuais\n",
    "    para cada docente, conforme a estrutura especificada.\n",
    "    \"\"\"\n",
    "    \n",
    "    # 1. Garantir que o diretório de saída exista\n",
    "    try:\n",
    "        os.makedirs(OUTPUT_PATH, exist_ok=True)\n",
    "        print(f\"Diretório de saída verificado/criado: '{OUTPUT_PATH}'\")\n",
    "    except OSError as e:\n",
    "        print(f\"Erro ao criar o diretório '{OUTPUT_PATH}': {e}\")\n",
    "        return\n",
    "\n",
    "    # 2. Ler o arquivo de entrada compilado\n",
    "    try:\n",
    "        with open(INPUT_FILE, 'r', encoding='utf-8') as f:\n",
    "            data = json.load(f)\n",
    "    except FileNotFoundError:\n",
    "        print(f\"Erro: Arquivo de entrada não encontrado em '{INPUT_FILE}'\")\n",
    "        return\n",
    "    except json.JSONDecodeError:\n",
    "        print(f\"Erro: O arquivo '{INPUT_FILE}' não contém um JSON válido.\")\n",
    "        return\n",
    "    except Exception as e:\n",
    "        print(f\"Erro inesperado ao ler o arquivo: {e}\")\n",
    "        return\n",
    "\n",
    "    # 3. Criar um mapa de docentes para busca rápida (O(N))\n",
    "    #    Isso é muito mais eficiente do que percorrer a lista 'docentes'\n",
    "    #    a cada iteração dos 'formularios'.\n",
    "    docentes_map = {}\n",
    "    if 'docentes' in data and isinstance(data['docentes'], list):\n",
    "        for docente_info in data['docentes']:\n",
    "            if 'nome' in docente_info:\n",
    "                docentes_map[docente_info['nome']] = docente_info\n",
    "            else:\n",
    "                print(\"Aviso: Encontrada entrada em 'docentes' sem a chave 'nome'.\")\n",
    "\n",
    "    # 4. Verificar se a chave 'formularios' existe\n",
    "    if 'formularios' not in data or not isinstance(data['formularios'], dict):\n",
    "        print(\"Erro: A chave 'formularios' não foi encontrada ou não é um dicionário no arquivo de entrada.\")\n",
    "        return\n",
    "\n",
    "    # 5. Processar cada docente em 'formularios'\n",
    "    total_processados = 0\n",
    "    for nome_docente, formulario_docente in data['formularios'].items():\n",
    "        \n",
    "        # Buscar informações adicionais no mapa de docentes\n",
    "        info_adicional = docentes_map.get(nome_docente)\n",
    "        \n",
    "        comentario = \"\"\n",
    "        preferencia = \"\"\n",
    "        \n",
    "        if info_adicional:\n",
    "            # Usamos .get() para evitar erros caso a chave não exista\n",
    "            comentario = info_adicional.get('comentario', '')\n",
    "            preferencia = info_adicional.get('agrupar', '')\n",
    "        else:\n",
    "            print(f\"Aviso: Docente '{nome_docente}' encontrado em 'formularios' mas não na lista 'docentes'. 'comentario' e 'preferencia' ficarão vazios.\")\n",
    "\n",
    "        # 6. Montar a estrutura de saída padrão\n",
    "        output_data = {\n",
    "            nome_docente: {\n",
    "                \"formularios\": formulario_docente,\n",
    "                \"avaliacao\": {\n",
    "                    \"nota\": -1,\n",
    "                    \"comentario\": comentario,\n",
    "                    \"preferencia\": preferencia\n",
    "                },\n",
    "                \"semNoturna\": not any(turma in turmasNoturnas for turma in formulario_docente.keys())\n",
    "            }\n",
    "        }\n",
    "        \n",
    "        # 7. Definir o nome do arquivo de saída e salvar\n",
    "        output_filename = f\"{nome_docente}.json\"\n",
    "        full_output_path = os.path.join(OUTPUT_PATH, output_filename)\n",
    "        \n",
    "        try:\n",
    "            with open(full_output_path, 'w', encoding='utf-8') as f_out:\n",
    "                # ensure_ascii=False -> Preserva caracteres como \"José\"\n",
    "                # indent=2         -> Cria um arquivo formatado (bonito)\n",
    "                json.dump(output_data, f_out, ensure_ascii=False, indent=2)\n",
    "            total_processados += 1\n",
    "        except IOError as e:\n",
    "            print(f\"Erro ao escrever o arquivo '{full_output_path}': {e}\")\n",
    "        except Exception as e:\n",
    "             print(f\"Erro inesperado ao processar '{nome_docente}': {e}\")\n",
    "\n",
    "    print(f\"\\nProcessamento concluído.\")\n",
    "    print(f\"{total_processados} arquivos gerados em '{OUTPUT_PATH}'.\")"
   ]
  },
  {
   "cell_type": "code",
   "execution_count": 7,
   "id": "1f75b78a",
   "metadata": {},
   "outputs": [],
   "source": [
    "turmas: list[dict] = json.load(open('public/turmas.json', 'r',  encoding='utf-8'))\n",
    "turmasNoturnas = [turma['id'] for turma in turmas if turma['noturna']]"
   ]
  },
  {
   "cell_type": "code",
   "execution_count": 8,
   "id": "1cd7498d",
   "metadata": {},
   "outputs": [
    {
     "name": "stdout",
     "output_type": "stream",
     "text": [
      "Diretório de saída verificado/criado: '../carga_didatica/2025-1/formularios'\n",
      "\n",
      "Processamento concluído.\n",
      "37 arquivos gerados em '../carga_didatica/2025-1/formularios'.\n"
     ]
    }
   ],
   "source": [
    "processar_formularios_compilados(turmasNoturnas)"
   ]
  },
  {
   "cell_type": "code",
   "execution_count": null,
   "id": "cac395c7",
   "metadata": {},
   "outputs": [],
   "source": []
  }
 ],
 "metadata": {
  "kernelspec": {
   "display_name": "Python 3",
   "language": "python",
   "name": "python3"
  },
  "language_info": {
   "codemirror_mode": {
    "name": "ipython",
    "version": 3
   },
   "file_extension": ".py",
   "mimetype": "text/x-python",
   "name": "python",
   "nbconvert_exporter": "python",
   "pygments_lexer": "ipython3",
   "version": "3.10.12"
  }
 },
 "nbformat": 4,
 "nbformat_minor": 5
}
