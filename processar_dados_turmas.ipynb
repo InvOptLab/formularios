{
 "cells": [
  {
   "cell_type": "code",
   "execution_count": 1,
   "id": "b19f41b6",
   "metadata": {},
   "outputs": [],
   "source": [
    "import pandas as pd"
   ]
  },
  {
   "cell_type": "code",
   "execution_count": 2,
   "id": "219e4e01",
   "metadata": {},
   "outputs": [],
   "source": [
    "df = pd.read_csv('../../Elenco SME_2025-2-ICMC.csv', delimiter=';')"
   ]
  },
  {
   "cell_type": "code",
   "execution_count": 3,
   "id": "3c144684",
   "metadata": {},
   "outputs": [],
   "source": [
    "df = df.dropna(subset=[\"Disciplina (código)\"])"
   ]
  },
  {
   "cell_type": "code",
   "execution_count": 4,
   "id": "b95c11e9",
   "metadata": {},
   "outputs": [],
   "source": [
    "df = df.rename(columns={\"Disciplina (código)\": \"codigo\", \n",
    "                        \"Disciplina (nome completo)\": \"nome\", \n",
    "                        \"Curso(s)\": \"curso\",\n",
    "                        \"Horário 1\": \"horario1\", \"Horário 2\": \"horario2\", \"Ementa\": \"ementa\", \"Turma\": \"turma\"})"
   ]
  },
  {
   "cell_type": "code",
   "execution_count": 5,
   "id": "27cc9664",
   "metadata": {},
   "outputs": [],
   "source": [
    "df = df.astype({'turma': 'int32'})"
   ]
  },
  {
   "cell_type": "code",
   "execution_count": 6,
   "id": "e08a16d0",
   "metadata": {},
   "outputs": [
    {
     "data": {
      "text/html": [
       "<div>\n",
       "<style scoped>\n",
       "    .dataframe tbody tr th:only-of-type {\n",
       "        vertical-align: middle;\n",
       "    }\n",
       "\n",
       "    .dataframe tbody tr th {\n",
       "        vertical-align: top;\n",
       "    }\n",
       "\n",
       "    .dataframe thead th {\n",
       "        text-align: right;\n",
       "    }\n",
       "</style>\n",
       "<table border=\"1\" class=\"dataframe\">\n",
       "  <thead>\n",
       "    <tr style=\"text-align: right;\">\n",
       "      <th></th>\n",
       "      <th>codigo</th>\n",
       "      <th>nome</th>\n",
       "      <th>curso</th>\n",
       "      <th>turma</th>\n",
       "      <th>horario1</th>\n",
       "      <th>horario2</th>\n",
       "      <th>nivel</th>\n",
       "      <th>ementa</th>\n",
       "    </tr>\n",
       "  </thead>\n",
       "  <tbody>\n",
       "    <tr>\n",
       "      <th>0</th>\n",
       "      <td>SME0142</td>\n",
       "      <td>Algebra Linear e Aplicações</td>\n",
       "      <td>BCC, BCDados</td>\n",
       "      <td>1</td>\n",
       "      <td>Terça - 10:10 / 11:50</td>\n",
       "      <td>Quinta - 10:10 / 11:50</td>\n",
       "      <td>g</td>\n",
       "      <td>https://uspdigital.usp.br/jupiterweb/obterDisc...</td>\n",
       "    </tr>\n",
       "    <tr>\n",
       "      <th>1</th>\n",
       "      <td>SME0142</td>\n",
       "      <td>Algebra Linear e Aplicações</td>\n",
       "      <td>BCC</td>\n",
       "      <td>2</td>\n",
       "      <td>Terça - 08:10 / 09:50</td>\n",
       "      <td>Quinta - 08:10 / 09:50</td>\n",
       "      <td>g</td>\n",
       "      <td>https://uspdigital.usp.br/jupiterweb/obterDisc...</td>\n",
       "    </tr>\n",
       "    <tr>\n",
       "      <th>2</th>\n",
       "      <td>SME0123</td>\n",
       "      <td>Estatística</td>\n",
       "      <td>BCC</td>\n",
       "      <td>1</td>\n",
       "      <td>Terça - 14:20 / 16:00</td>\n",
       "      <td>Sexta - 08:10 / 09:50</td>\n",
       "      <td>g</td>\n",
       "      <td>https://uspdigital.usp.br/jupiterweb/obterDisc...</td>\n",
       "    </tr>\n",
       "    <tr>\n",
       "      <th>3</th>\n",
       "      <td>SME0123</td>\n",
       "      <td>Estatística</td>\n",
       "      <td>BCC</td>\n",
       "      <td>2</td>\n",
       "      <td>Terça - 16:20 / 18:00</td>\n",
       "      <td>Sexta - 10:10 / 11:50</td>\n",
       "      <td>g</td>\n",
       "      <td>https://uspdigital.usp.br/jupiterweb/obterDisc...</td>\n",
       "    </tr>\n",
       "    <tr>\n",
       "      <th>4</th>\n",
       "      <td>SME0110</td>\n",
       "      <td>Programação Matemática</td>\n",
       "      <td>BCC</td>\n",
       "      <td>1</td>\n",
       "      <td>Segunda - 08:10 / 09:50</td>\n",
       "      <td>Quarta - 10:10 / 11:50</td>\n",
       "      <td>g</td>\n",
       "      <td>https://uspdigital.usp.br/jupiterweb/obterDisc...</td>\n",
       "    </tr>\n",
       "    <tr>\n",
       "      <th>...</th>\n",
       "      <td>...</td>\n",
       "      <td>...</td>\n",
       "      <td>...</td>\n",
       "      <td>...</td>\n",
       "      <td>...</td>\n",
       "      <td>...</td>\n",
       "      <td>...</td>\n",
       "      <td>...</td>\n",
       "    </tr>\n",
       "    <tr>\n",
       "      <th>58</th>\n",
       "      <td>SME5962</td>\n",
       "      <td>Otimização Inteira</td>\n",
       "      <td>Otimização</td>\n",
       "      <td>1</td>\n",
       "      <td>a definir</td>\n",
       "      <td>NaN</td>\n",
       "      <td>p</td>\n",
       "      <td>pos</td>\n",
       "    </tr>\n",
       "    <tr>\n",
       "      <th>59</th>\n",
       "      <td>SMA5934</td>\n",
       "      <td>Tópicos em Teoria Algébrica de Invariantes e B...</td>\n",
       "      <td>Matemática</td>\n",
       "      <td>1</td>\n",
       "      <td>a definir</td>\n",
       "      <td>NaN</td>\n",
       "      <td>p</td>\n",
       "      <td>pos</td>\n",
       "    </tr>\n",
       "    <tr>\n",
       "      <th>60</th>\n",
       "      <td>SMA5802</td>\n",
       "      <td>Equações Diferenciais Ordinárias</td>\n",
       "      <td>Matemática</td>\n",
       "      <td>1</td>\n",
       "      <td>a definir</td>\n",
       "      <td>NaN</td>\n",
       "      <td>p</td>\n",
       "      <td>pos</td>\n",
       "    </tr>\n",
       "    <tr>\n",
       "      <th>61</th>\n",
       "      <td>SME5873</td>\n",
       "      <td>Ferramentas de Programação Paralela para Soluç...</td>\n",
       "      <td>MFC</td>\n",
       "      <td>1</td>\n",
       "      <td>a definir</td>\n",
       "      <td>NaN</td>\n",
       "      <td>p</td>\n",
       "      <td>pos</td>\n",
       "    </tr>\n",
       "    <tr>\n",
       "      <th>62</th>\n",
       "      <td>SME5827</td>\n",
       "      <td>Geração de malhas</td>\n",
       "      <td>MFC</td>\n",
       "      <td>1</td>\n",
       "      <td>a definir</td>\n",
       "      <td>NaN</td>\n",
       "      <td>p</td>\n",
       "      <td>pos</td>\n",
       "    </tr>\n",
       "  </tbody>\n",
       "</table>\n",
       "<p>63 rows × 8 columns</p>\n",
       "</div>"
      ],
      "text/plain": [
       "     codigo                                               nome         curso  \\\n",
       "0   SME0142                        Algebra Linear e Aplicações  BCC, BCDados   \n",
       "1   SME0142                        Algebra Linear e Aplicações           BCC   \n",
       "2   SME0123                                        Estatística           BCC   \n",
       "3   SME0123                                        Estatística           BCC   \n",
       "4   SME0110                             Programação Matemática           BCC   \n",
       "..      ...                                                ...           ...   \n",
       "58  SME5962                                 Otimização Inteira    Otimização   \n",
       "59  SMA5934  Tópicos em Teoria Algébrica de Invariantes e B...    Matemática   \n",
       "60  SMA5802                   Equações Diferenciais Ordinárias    Matemática   \n",
       "61  SME5873  Ferramentas de Programação Paralela para Soluç...           MFC   \n",
       "62  SME5827                                  Geração de malhas           MFC   \n",
       "\n",
       "    turma                 horario1                horario2 nivel  \\\n",
       "0       1    Terça - 10:10 / 11:50  Quinta - 10:10 / 11:50     g   \n",
       "1       2    Terça - 08:10 / 09:50  Quinta - 08:10 / 09:50     g   \n",
       "2       1    Terça - 14:20 / 16:00   Sexta - 08:10 / 09:50     g   \n",
       "3       2    Terça - 16:20 / 18:00   Sexta - 10:10 / 11:50     g   \n",
       "4       1  Segunda - 08:10 / 09:50  Quarta - 10:10 / 11:50     g   \n",
       "..    ...                      ...                     ...   ...   \n",
       "58      1               a definir                      NaN     p   \n",
       "59      1               a definir                      NaN     p   \n",
       "60      1               a definir                      NaN     p   \n",
       "61      1               a definir                      NaN     p   \n",
       "62      1               a definir                      NaN     p   \n",
       "\n",
       "                                               ementa  \n",
       "0   https://uspdigital.usp.br/jupiterweb/obterDisc...  \n",
       "1   https://uspdigital.usp.br/jupiterweb/obterDisc...  \n",
       "2   https://uspdigital.usp.br/jupiterweb/obterDisc...  \n",
       "3   https://uspdigital.usp.br/jupiterweb/obterDisc...  \n",
       "4   https://uspdigital.usp.br/jupiterweb/obterDisc...  \n",
       "..                                                ...  \n",
       "58                                                pos  \n",
       "59                                                pos  \n",
       "60                                                pos  \n",
       "61                                                pos  \n",
       "62                                                pos  \n",
       "\n",
       "[63 rows x 8 columns]"
      ]
     },
     "execution_count": 6,
     "metadata": {},
     "output_type": "execute_result"
    }
   ],
   "source": [
    "df"
   ]
  },
  {
   "cell_type": "code",
   "execution_count": 7,
   "id": "7b51710b",
   "metadata": {},
   "outputs": [],
   "source": [
    "json_data = df.to_dict(orient='records')"
   ]
  },
  {
   "cell_type": "code",
   "execution_count": 8,
   "id": "2600ae18",
   "metadata": {},
   "outputs": [],
   "source": [
    "for item in json_data:\n",
    "    keys_to_remove = [k for k, v in item.items() if pd.isna(v) and k == \"horario2\"]\n",
    "    for k in keys_to_remove:\n",
    "        del item[k]"
   ]
  },
  {
   "cell_type": "code",
   "execution_count": 9,
   "id": "565ac79e",
   "metadata": {},
   "outputs": [
    {
     "data": {
      "text/plain": [
       "63"
      ]
     },
     "execution_count": 9,
     "metadata": {},
     "output_type": "execute_result"
    }
   ],
   "source": [
    "len(json_data)"
   ]
  },
  {
   "cell_type": "code",
   "execution_count": 10,
   "id": "761c8d21",
   "metadata": {},
   "outputs": [],
   "source": [
    "dias_map = {\n",
    "    \"Segunda\": \"Seg.\",\n",
    "    \"Terça\": \"Ter.\",\n",
    "    \"Quarta\": \"Qua.\",\n",
    "    \"Quinta\": \"Qui.\",\n",
    "    \"Sexta\": \"Sex.\",\n",
    "    \"Sábado\": \"Sáb.\",\n",
    "    \"Domingo\": \"Dom.\"\n",
    "}"
   ]
  },
  {
   "cell_type": "code",
   "execution_count": 11,
   "id": "6123833e",
   "metadata": {},
   "outputs": [],
   "source": [
    "def processar_horario(horario):\n",
    "    if pd.isna(horario):\n",
    "        return None\n",
    "    try:\n",
    "        # Exemplo: \"Terça - 14:20 / 16:00\"\n",
    "        dia_e_horas = horario.split('-')\n",
    "        dia_extenso = dia_e_horas[0].strip()\n",
    "        dia = dias_map.get(dia_extenso, dia_extenso)  # Se não tiver no mapa, mantém original\n",
    "        horas = dia_e_horas[1].strip().split('/')\n",
    "        inicio = horas[0].strip()\n",
    "        fim = horas[1].strip()\n",
    "        return {\"dia\": dia, \"inicio\": inicio, \"fim\": fim}\n",
    "    except Exception as e:\n",
    "        print(f\"Erro ao processar: {horario} -> {e}\")\n",
    "        return None"
   ]
  },
  {
   "cell_type": "code",
   "execution_count": 12,
   "id": "a9ae9ec1",
   "metadata": {},
   "outputs": [
    {
     "name": "stdout",
     "output_type": "stream",
     "text": [
      "Erro ao processar: a definir  -> list index out of range\n",
      "Erro ao processar: a definir  -> list index out of range\n",
      "Erro ao processar: a definir  -> list index out of range\n",
      "Erro ao processar: a definir  -> list index out of range\n",
      "Erro ao processar: a definir  -> list index out of range\n",
      "Erro ao processar: a definir  -> list index out of range\n",
      "Erro ao processar: a definir  -> list index out of range\n",
      "Erro ao processar: a definir  -> list index out of range\n",
      "Erro ao processar: a definir  -> list index out of range\n",
      "Erro ao processar: a definir  -> list index out of range\n",
      "Erro ao processar: a definir  -> list index out of range\n",
      "Erro ao processar: a definir  -> list index out of range\n",
      "Erro ao processar: \n",
      "Sex. 10:10/11:50 -> list index out of range\n",
      "Erro ao processar: a definir  -> list index out of range\n",
      "Erro ao processar: a definir  -> list index out of range\n",
      "Erro ao processar: a definir  -> list index out of range\n",
      "Erro ao processar: a definir  -> list index out of range\n",
      "Erro ao processar: a definir  -> list index out of range\n",
      "Erro ao processar: a definir  -> list index out of range\n",
      "Erro ao processar: a definir  -> list index out of range\n"
     ]
    }
   ],
   "source": [
    "for item in json_data:\n",
    "    horarios = []\n",
    "    for key in ['horario1', 'horario2']:\n",
    "        if key in item:\n",
    "            h = processar_horario(item[key])\n",
    "            if h:\n",
    "                horarios.append(h)\n",
    "            del item[key]  # Remove os campos antigos\n",
    "\n",
    "    # if horarios:\n",
    "    item['horarios'] = horarios\n",
    "    item['id'] = f'{item['codigo']},{item['turma']}'\n"
   ]
  },
  {
   "cell_type": "code",
   "execution_count": 13,
   "id": "a2514dbb",
   "metadata": {},
   "outputs": [
    {
     "data": {
      "text/plain": [
       "63"
      ]
     },
     "execution_count": 13,
     "metadata": {},
     "output_type": "execute_result"
    }
   ],
   "source": [
    "len(json_data)"
   ]
  },
  {
   "cell_type": "code",
   "execution_count": 14,
   "id": "54f073f1",
   "metadata": {},
   "outputs": [],
   "source": [
    "import json"
   ]
  },
  {
   "cell_type": "code",
   "execution_count": 15,
   "id": "94e723f7",
   "metadata": {},
   "outputs": [],
   "source": [
    "with open('turmas.json', 'w', encoding='utf-8') as f:\n",
    "    json.dump(json_data, f, ensure_ascii=False, indent=4)"
   ]
  }
 ],
 "metadata": {
  "kernelspec": {
   "display_name": "Python 3",
   "language": "python",
   "name": "python3"
  },
  "language_info": {
   "codemirror_mode": {
    "name": "ipython",
    "version": 3
   },
   "file_extension": ".py",
   "mimetype": "text/x-python",
   "name": "python",
   "nbconvert_exporter": "python",
   "pygments_lexer": "ipython3",
   "version": "3.12.7"
  }
 },
 "nbformat": 4,
 "nbformat_minor": 5
}
